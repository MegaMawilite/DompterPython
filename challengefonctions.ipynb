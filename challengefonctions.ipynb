{
 "cells": [
  {
   "cell_type": "code",
   "execution_count": null,
   "id": "34ee74cb",
   "metadata": {},
   "outputs": [],
   "source": [
    "import random"
   ]
  },
  {
   "cell_type": "code",
   "execution_count": null,
   "id": "2744ff32",
   "metadata": {},
   "outputs": [],
   "source": [
    "random.seed(15002) # so the randomly generated numbers stay the same\n",
    "# seed(1)    :a = (10, 14, 13, 13,  2)                          :len( 5)\n",
    "# seed(83)   :b = (14, 14,  8,  2,  3,  7,  1,  1, 11,  4)      :len(10)\n",
    "# seed(150)  :c = (15,  7,  4,  4,  5, 13,  8,  3)              :len( 8)\n",
    "# seed(1500) :d = ( 1, 13,  7,  6,  2,  6,  6)                  :len( 7)\n",
    "# seed(15002):e = (15,  9, 15,  7,  5,  9,  6, 13, 12,  8,  3)  :len(11)"
   ]
  },
  {
   "cell_type": "code",
   "execution_count": null,
   "id": "ceec52ed",
   "metadata": {
    "lines_to_next_cell": 1
   },
   "outputs": [],
   "source": [
    "v = []\n",
    "for i in range (random.randint(3, 15)):\n",
    "    v.append(random.randint(1, 15))"
   ]
  },
  {
   "cell_type": "code",
   "execution_count": null,
   "id": "ea580c1a",
   "metadata": {
    "lines_to_next_cell": 1
   },
   "outputs": [],
   "source": [
    "def moyenne(v): # average\n",
    "    sum = 0\n",
    "    for i in (v):\n",
    "        sum += i\n",
    "    return(sum / len(v))"
   ]
  },
  {
   "cell_type": "code",
   "execution_count": null,
   "id": "0809ea19",
   "metadata": {
    "lines_to_next_cell": 1
   },
   "outputs": [],
   "source": [
    "def variance(v): # variance\n",
    "    diffs = []\n",
    "    for i in (v): # = SUM of each ((v(i) - avg(v))^2)\n",
    "        diffs.append((i - moyenne(v)) ** 2)\n",
    "    return(moyenne(diffs)) # = average of above formula"
   ]
  },
  {
   "cell_type": "code",
   "execution_count": null,
   "id": "9e6fcc7f",
   "metadata": {
    "lines_to_next_cell": 1
   },
   "outputs": [],
   "source": [
    "def ecarttype(v): # spread\n",
    "    return(variance(v) ** 0.5) # square root = ^0.5"
   ]
  },
  {
   "cell_type": "code",
   "execution_count": null,
   "id": "f9aeb48b",
   "metadata": {
    "lines_to_next_cell": 1
   },
   "outputs": [],
   "source": [
    "def mediane(v): # median\n",
    "    v.sort() # better sort the list to find which item is in the middle\n",
    "    if len(v) % 2 == 1 :\n",
    "        # if v is of odd length\n",
    "        med = v[int((len(v) - 1) / 2)] # the item in the middle\n",
    "    else :\n",
    "        # if v is of even length\n",
    "        middle = [v[int((len(v) / 2) - 1)], v[int(len(v) / 2)]]\n",
    "        med = moyenne(middle) # the average of the two middle-most items\n",
    "    return(med)"
   ]
  },
  {
   "cell_type": "code",
   "execution_count": null,
   "id": "5ac9d881",
   "metadata": {},
   "outputs": [],
   "source": [
    "print(\"moyenne : \" + str(moyenne(v)))\n",
    "print(\"variance : \" + str(variance(v)))\n",
    "print(\"écart-type : \" + str(ecarttype(v)))\n",
    "print(\"médiane : \" + str(mediane(v)))"
   ]
  },
  {
   "cell_type": "markdown",
   "id": "4f0105cf",
   "metadata": {},
   "source": [
    "seed(1)    :a = (10, 14, 13, 13,  2)                          :len( 5)\n",
    "seed(83)   :b = (14, 14,  8,  2,  3,  7,  1,  1, 11,  4)      :len(10)\n",
    "seed(150)  :c = (15,  7,  4,  4,  5, 13,  8,  3)              :len( 8)\n",
    "seed(1500) :d = ( 1, 13,  7,  6,  2,  6,  6)                  :len( 7)\n",
    "seed(15002):e = (15,  9, 15,  7,  5,  9,  6, 13, 12,  8,  3)  :len(11)"
   ]
  },
  {
   "cell_type": "code",
   "execution_count": null,
   "id": "061effe9",
   "metadata": {},
   "outputs": [],
   "source": [
    "# results:\n",
    "\"\"\"    a       b       c       d       e\n",
    "moy: 10.4     6.5     7.375   5.857~  9.273~\n",
    "var: 19.440~ 23.45   17.234~ 12.980~ 14.744~\n",
    "e-t:  4.409~  4.843~  4.151~  3.603~  3.840~\n",
    "med: 13.      5.5     6.      6.      9.\n",
    "\"\"\""
   ]
  }
 ],
 "metadata": {
  "jupytext": {
   "cell_metadata_filter": "-all",
   "main_language": "python",
   "notebook_metadata_filter": "-all"
  },
  "kernelspec": {
   "display_name": "Python 3 (ipykernel)",
   "language": "python",
   "name": "python3"
  },
  "language_info": {
   "codemirror_mode": {
    "name": "ipython",
    "version": 3
   },
   "file_extension": ".py",
   "mimetype": "text/x-python",
   "name": "python",
   "nbconvert_exporter": "python",
   "pygments_lexer": "ipython3",
   "version": "3.9.12"
  }
 },
 "nbformat": 4,
 "nbformat_minor": 5
}
