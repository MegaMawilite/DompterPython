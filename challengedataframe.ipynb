{
 "cells": [
  {
   "cell_type": "code",
   "execution_count": null,
   "id": "bb4e0897",
   "metadata": {},
   "outputs": [],
   "source": [
    "import pandas as pd\n",
    "# from simpledbf import Dbf5"
   ]
  },
  {
   "cell_type": "code",
   "execution_count": null,
   "id": "e6cf7e84",
   "metadata": {},
   "outputs": [],
   "source": [
    "print(\"((1))\")\n",
    "# fetching the dataframe from the csv\n",
    "df_google_ap_1 = pd.read_csv(\"googleplaystore_1.csv\", sep=\";\")\n",
    "print(df_google_ap_1)"
   ]
  },
  {
   "cell_type": "code",
   "execution_count": null,
   "id": "bc98fcb6",
   "metadata": {},
   "outputs": [],
   "source": [
    "print(\"\\n\\n\")\n",
    "print(\"((2))\")\n",
    "# fetching those who have over 1B installs\n",
    "# this isn't ideal but the dataframe is too broken to get an ideal solution\n",
    "df_milliards = df_google_ap_1[df_google_ap_1[\"Installs\"]\n",
    "                              .str.contains(\"1,000,000,000+\")]\n",
    "print(df_milliards.loc[:, [\"App\", \"Category\", \"Genres\"]])"
   ]
  },
  {
   "cell_type": "code",
   "execution_count": null,
   "id": "34c57af3",
   "metadata": {},
   "outputs": [],
   "source": [
    "print(\"\\n\\n\")\n",
    "print(\"((3))\")\n",
    "# fetching the one with the max review count\n",
    "# (apparently there's a duplicate so there's actually two)\n",
    "df_reviews = df_google_ap_1[\"Reviews\"]\n",
    "max_reviews = df_reviews.max()\n",
    "df_max_reviews = df_google_ap_1[df_google_ap_1[\"Reviews\"] == max_reviews]\n",
    "print(df_max_reviews.loc[:, [\"App\", \"Rating\", \"Reviews\"]])"
   ]
  },
  {
   "cell_type": "code",
   "execution_count": null,
   "id": "6280a717",
   "metadata": {},
   "outputs": [],
   "source": [
    "print(\"\\n\\n\")\n",
    "print(\"((4))\")\n",
    "print(df_google_ap_1.iloc[3:17, [2, 5, 6]]) # 3:17 = from 3 to 16 included"
   ]
  },
  {
   "cell_type": "code",
   "execution_count": null,
   "id": "016af59c",
   "metadata": {},
   "outputs": [],
   "source": [
    "print(\"\\n\\n\")\n",
    "print(\"((5))\")\n",
    "# fetching those who are rated for everyone\n",
    "df_tout_ages = df_google_ap_1[df_google_ap_1[\"Content Rating\"]\n",
    "                              .str.contains(\"Everyone\")]\n",
    "# selecting only one column to have only one count number\n",
    "print(df_tout_ages[\"App\"].count())"
   ]
  },
  {
   "cell_type": "code",
   "execution_count": null,
   "id": "c74968e3",
   "metadata": {},
   "outputs": [],
   "source": [
    "print(\"\\n\\n\")\n",
    "print(\"((6))\")\n",
    "#fetching the category with the most apps\n",
    "df_categories = df_google_ap_1.groupby(\"Category\")[\"Category\"].count()\n",
    "max_categories = df_categories.max()\n",
    "df_max_categories = df_categories[df_categories == max_categories]\n",
    "print(df_max_categories)"
   ]
  },
  {
   "cell_type": "code",
   "execution_count": null,
   "id": "b3430032",
   "metadata": {},
   "outputs": [],
   "source": [
    "print(\"\\n\\n\")\n",
    "print(\"((7))\")\n",
    "# fetching those whose price is $7.99\n",
    "df_huit_dollars = df_google_ap_1[df_google_ap_1[\"Price\"]\n",
    "                                 .str.contains(\"\\$7.99\")]\n",
    "print(df_huit_dollars.loc[:, [\"App\"]])"
   ]
  }
 ],
 "metadata": {
  "jupytext": {
   "cell_metadata_filter": "-all",
   "main_language": "python",
   "notebook_metadata_filter": "-all"
  }
 },
 "nbformat": 4,
 "nbformat_minor": 5
}
