{
 "cells": [
  {
   "cell_type": "code",
   "execution_count": null,
   "id": "41ba00e0",
   "metadata": {
    "lines_to_next_cell": 1
   },
   "outputs": [],
   "source": [
    "print(\"((1))\")\n",
    "ventes_commerciaux = {\"Marie\":15, \"Samuel\":17, \"Gaston\":12, \"Fred\":10,\n",
    "                      \"Mae\":5, \"Julie\":15, \"Zoe\":7, \"Claire\":20,\n",
    "                      \"Chloe\":8, \"Julien\":14, \"Gael\":9, \"Samia\":15,\n",
    "                      \"Omar\":11, \"Gabriel\":16, \"Manon\":2}\n",
    "print(ventes_commerciaux)"
   ]
  },
  {
   "cell_type": "code",
   "execution_count": null,
   "id": "155e5f02",
   "metadata": {
    "lines_to_next_cell": 1
   },
   "outputs": [],
   "source": [
    "def moyenne(v): # average (from challengefonctions.py)\n",
    "    sum = 0\n",
    "    for i in (v):\n",
    "        sum += i\n",
    "    return(sum / len(v))"
   ]
  },
  {
   "cell_type": "code",
   "execution_count": null,
   "id": "563a5175",
   "metadata": {},
   "outputs": [],
   "source": [
    "# (2) and (3) are simply list functions\n",
    "print(\"\\n\\n\")\n",
    "print(\"((2))\")\n",
    "print(moyenne(list(ventes_commerciaux.values()))) # (11.733~)\n",
    "print(\"\\n\\n\")\n",
    "print(\"((3))\")\n",
    "print(len(list(ventes_commerciaux.values()))) # (15)"
   ]
  },
  {
   "cell_type": "code",
   "execution_count": null,
   "id": "658c1fd6",
   "metadata": {},
   "outputs": [],
   "source": [
    "print(\"\\n\\n\")\n",
    "print(\"((4))\")\n",
    "sup_a_la_moy = 0\n",
    "for i in list(ventes_commerciaux.values()):\n",
    "    if i > moyenne(list(ventes_commerciaux.values())):\n",
    "        sup_a_la_moy += 1\n",
    "print(sup_a_la_moy) # (8)"
   ]
  },
  {
   "cell_type": "code",
   "execution_count": null,
   "id": "d29ee9e9",
   "metadata": {},
   "outputs": [],
   "source": [
    "print(\"\\n\\n\")\n",
    "print(\"((5))\")\n",
    "meilleur, highscore = (\"\", 0) # init\n",
    "for i in list(ventes_commerciaux.items()):\n",
    "    if i[1] > highscore: # if better than high score so far\n",
    "        meilleur, highscore = i # set as new high score\n",
    "print(meilleur) # (Claire)"
   ]
  },
  {
   "cell_type": "code",
   "execution_count": null,
   "id": "762e4c69",
   "metadata": {},
   "outputs": [],
   "source": [
    "print(\"\\n\\n\")\n",
    "print(\"((6))\")\n",
    "court_prenoms = 0\n",
    "for i in list(ventes_commerciaux.keys()):\n",
    "    if len(i) < 4: # name length < 4\n",
    "        court_prenoms += 1\n",
    "print(court_prenoms) # (2)"
   ]
  },
  {
   "cell_type": "code",
   "execution_count": null,
   "id": "6f6629ba",
   "metadata": {},
   "outputs": [],
   "source": [
    "print(\"\\n\\n\")\n",
    "print(\"((7))\")\n",
    "for i in list(ventes_commerciaux.items()):\n",
    "    if i[1] % 2 == 0: # if sales number is even\n",
    "        print(i[0]) # print name"
   ]
  }
 ],
 "metadata": {
  "jupytext": {
   "cell_metadata_filter": "-all",
   "main_language": "python",
   "notebook_metadata_filter": "-all"
  },
  "kernelspec": {
   "display_name": "Python 3 (ipykernel)",
   "language": "python",
   "name": "python3"
  },
  "language_info": {
   "codemirror_mode": {
    "name": "ipython",
    "version": 3
   },
   "file_extension": ".py",
   "mimetype": "text/x-python",
   "name": "python",
   "nbconvert_exporter": "python",
   "pygments_lexer": "ipython3",
   "version": "3.9.12"
  }
 },
 "nbformat": 4,
 "nbformat_minor": 5
}
