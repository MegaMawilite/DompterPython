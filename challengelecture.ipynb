{
 "cells": [
  {
   "cell_type": "code",
   "execution_count": null,
   "id": "18ff47c7",
   "metadata": {},
   "outputs": [],
   "source": [
    "import pandas as pd\n",
    "from simpledbf import Dbf5"
   ]
  },
  {
   "cell_type": "code",
   "execution_count": null,
   "id": "0ba5b007",
   "metadata": {},
   "outputs": [],
   "source": [
    "dfa = pd.read_csv(r\"C:\\Users\\utilisateur\\Desktop\\Briefs\\03.Python\\prima.txt\",\n",
    "                  sep=\"\\t\")\n",
    "print(dfa) # .txt"
   ]
  },
  {
   "cell_type": "code",
   "execution_count": null,
   "id": "a850a1a3",
   "metadata": {},
   "outputs": [],
   "source": [
    "dfb = pd.read_csv(\"mar2012.csv\")\n",
    "print(dfb) # .csv"
   ]
  },
  {
   "cell_type": "code",
   "execution_count": null,
   "id": "40628138",
   "metadata": {},
   "outputs": [],
   "source": [
    "dbfc = Dbf5(r\"C:\\Users\\utilisateur\\Desktop\\Briefs\\03.Python\\mar2012.dbf\")\n",
    "dfc = dbfc.to_dataframe()\n",
    "print(dfc) # .dbf"
   ]
  }
 ],
 "metadata": {
  "jupytext": {
   "cell_metadata_filter": "-all",
   "main_language": "python",
   "notebook_metadata_filter": "-all"
  },
  "kernelspec": {
   "display_name": "Python 3 (ipykernel)",
   "language": "python",
   "name": "python3"
  },
  "language_info": {
   "codemirror_mode": {
    "name": "ipython",
    "version": 3
   },
   "file_extension": ".py",
   "mimetype": "text/x-python",
   "name": "python",
   "nbconvert_exporter": "python",
   "pygments_lexer": "ipython3",
   "version": "3.9.12"
  }
 },
 "nbformat": 4,
 "nbformat_minor": 5
}
