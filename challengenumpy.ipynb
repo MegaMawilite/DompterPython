{
 "cells": [
  {
   "cell_type": "code",
   "execution_count": null,
   "id": "e6720b14",
   "metadata": {},
   "outputs": [],
   "source": [
    "import numpy as np\n",
    "import pandas as pd"
   ]
  },
  {
   "cell_type": "code",
   "execution_count": null,
   "id": "cce7ed93",
   "metadata": {},
   "outputs": [],
   "source": [
    "#fetching dataframe + adding missing header\n",
    "df = pd.read_csv(r\"C:\\Users\\utilisateur\\Desktop\\Briefs\\03.Python\\marathon.txt\",\n",
    "                  sep=\"\\t\",\n",
    "                  names=['Ville', 'Annee', 'Temps', 'Secondes', 'EstPARIS', 'EstBERLIN'])"
   ]
  },
  {
   "cell_type": "code",
   "execution_count": null,
   "id": "1cd84428",
   "metadata": {},
   "outputs": [],
   "source": [
    "paris = []\n",
    "berlin = []\n",
    "# filling EstPARIS and EstBERLIN\n",
    "for i in (df[\"Ville\"]):\n",
    "    if i == \"PARIS\":\n",
    "        paris.append(1)\n",
    "    else:\n",
    "        paris.append(0)\n",
    "    if i == \"BERLIN\":\n",
    "        berlin.append(1)\n",
    "    else:\n",
    "        berlin.append(0)\n",
    "df[\"EstPARIS\"] = paris\n",
    "df[\"EstBERLIN\"] = berlin"
   ]
  },
  {
   "cell_type": "code",
   "execution_count": null,
   "id": "47212d2e",
   "metadata": {},
   "outputs": [],
   "source": [
    "print(df)"
   ]
  },
  {
   "cell_type": "code",
   "execution_count": null,
   "id": "6aa07512",
   "metadata": {},
   "outputs": [],
   "source": [
    "# setting X and Y as in (Y = a0X0 + a1X1 + a2X2)\n",
    "X = df[[\"Annee\", \"EstPARIS\", \"EstBERLIN\"]].to_numpy()\n",
    "Y = df[\"Secondes\"].to_numpy()"
   ]
  },
  {
   "cell_type": "code",
   "execution_count": null,
   "id": "18e8f722",
   "metadata": {},
   "outputs": [],
   "source": [
    "# Y = aX <=> a = (Xt . X)^-1 . Xt . Y\n",
    "a = np.linalg.inv(X.T.dot(X)).dot(X.T).dot(Y)"
   ]
  },
  {
   "cell_type": "code",
   "execution_count": null,
   "id": "ff4a0219",
   "metadata": {},
   "outputs": [],
   "source": [
    "print('a0, a1, a2:\\n', a)"
   ]
  }
 ],
 "metadata": {
  "jupytext": {
   "cell_metadata_filter": "-all",
   "main_language": "python",
   "notebook_metadata_filter": "-all"
  }
 },
 "nbformat": 4,
 "nbformat_minor": 5
}
