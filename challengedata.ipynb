{
 "cells": [
  {
   "cell_type": "code",
   "execution_count": null,
   "id": "63e11bf3",
   "metadata": {},
   "outputs": [],
   "source": [
    "import pandas as pd\n",
    "import math\n",
    "import matplotlib.pyplot as graph\n",
    "import matplotlib.colors as clr\n",
    "import numpy as np"
   ]
  },
  {
   "cell_type": "code",
   "execution_count": null,
   "id": "f698ab18",
   "metadata": {
    "lines_to_next_cell": 1
   },
   "outputs": [],
   "source": [
    "# (from challengefonctions.py)\n",
    "def moyenne(v): # average\n",
    "    sum = 0\n",
    "    for i in (v):\n",
    "        sum += i\n",
    "    return(sum / len(v))"
   ]
  },
  {
   "cell_type": "code",
   "execution_count": null,
   "id": "183a73d2",
   "metadata": {
    "lines_to_next_cell": 1
   },
   "outputs": [],
   "source": [
    "def variance(v): # variance\n",
    "    diffs = []\n",
    "    for i in (v): # = SUM of each ((v(i) - avg(v))^2)\n",
    "        diffs.append((i - moyenne(v)) ** 2)\n",
    "    return(moyenne(diffs)) # = average of above formula"
   ]
  },
  {
   "cell_type": "code",
   "execution_count": null,
   "id": "b5fa2a34",
   "metadata": {
    "lines_to_next_cell": 1
   },
   "outputs": [],
   "source": [
    "def ecarttype(v): # spread\n",
    "    return(variance(v) ** 0.5) # square root = ^0.5"
   ]
  },
  {
   "cell_type": "code",
   "execution_count": null,
   "id": "5bf57124",
   "metadata": {},
   "outputs": [],
   "source": [
    "def mediane(v): # median\n",
    "    v.sort() # better sort the list to find which item is in the middle\n",
    "    if len(v) % 2 == 1 :\n",
    "        # if v is of odd length\n",
    "        med = v[int((len(v) - 1) / 2)] # the item in the middle\n",
    "    else :\n",
    "        # if v is of even length\n",
    "        middle = [v[int((len(v) / 2) - 1)], v[int(len(v) / 2)]]\n",
    "        med = moyenne(middle) # the average of the two middle-most items\n",
    "    return(med)"
   ]
  },
  {
   "cell_type": "code",
   "execution_count": null,
   "id": "f859fb05",
   "metadata": {},
   "outputs": [],
   "source": [
    "# fetching dataframes\n",
    "erpdf = pd.read_excel(\"erp.xlsx\")\n",
    "liaisondf = pd.read_excel(\"liaison.xlsx\")\n",
    "webdf = pd.read_excel(\"web.xlsx\")\n",
    "# merging dataframes\n",
    "df = erpdf.merge(liaisondf, how=\"left\", on=\"product_id\")\n",
    "df = df.merge(webdf, how=\"left\", left_on=\"id_web\", right_on=\"sku\")\n",
    "# cleaning dataframe\n",
    "df = df.drop_duplicates()"
   ]
  },
  {
   "cell_type": "code",
   "execution_count": null,
   "id": "3fa52ff3",
   "metadata": {
    "lines_to_next_cell": 2
   },
   "outputs": [],
   "source": [
    "print(df)\n",
    "df.to_excel(\"dataframe.xlsx\")"
   ]
  },
  {
   "cell_type": "code",
   "execution_count": null,
   "id": "40f8bcf8",
   "metadata": {},
   "outputs": [],
   "source": [
    "# creating sales dataframe\n",
    "df_sales = df.loc[:, [\"product_id\", \"price\", \"total_sales\"]]\n",
    "# assuming lack of sales value = 0 sales\n",
    "df_sales[\"total_sales\"] = df_sales[\"total_sales\"].fillna(0)\n",
    "df_sales = df_sales.drop_duplicates()"
   ]
  },
  {
   "cell_type": "code",
   "execution_count": null,
   "id": "bc6d858c",
   "metadata": {},
   "outputs": [],
   "source": [
    "revenue = []\n",
    "revenue_nonzero = []\n",
    "# calculating revenue per products\n",
    "for i in range (len(df_sales[\"product_id\"])):\n",
    "    # ditching every non-sold products (for better stats)\n",
    "    revenue.append(df_sales.iloc[i][\"price\"] * df_sales.iloc[i][\"total_sales\"])\n",
    "    if df_sales.iloc[i][\"total_sales\"] != 0:\n",
    "        revenue_nonzero.append(revenue[i])\n",
    "df_sales[\"revenue\"] = revenue\n",
    "# calculating total revenue\n",
    "total = df_sales[\"revenue\"].sum()"
   ]
  },
  {
   "cell_type": "code",
   "execution_count": null,
   "id": "9788345d",
   "metadata": {},
   "outputs": [],
   "source": [
    "z = []\n",
    "mean = moyenne(revenue_nonzero)\n",
    "standev = ecarttype(revenue_nonzero)\n",
    "# calculating z-score\n",
    "for i in (df_sales[\"revenue\"]):\n",
    "    if i != 0:\n",
    "        z.append((i - mean) / standev)\n",
    "    else:\n",
    "        z.append(math.nan)\n",
    "df_sales[\"z-score\"] = z"
   ]
  },
  {
   "cell_type": "code",
   "execution_count": null,
   "id": "84e5f008",
   "metadata": {},
   "outputs": [],
   "source": [
    "med = mediane(revenue_nonzero)\n",
    "top = []\n",
    "bottom = []\n",
    "# calculating q1 and q3, and thus iqr\n",
    "for i in (df_sales[\"revenue\"]):\n",
    "    if i > med:\n",
    "        top.append(i)\n",
    "    elif i < med and i != 0:\n",
    "        bottom.append(i)\n",
    "q1 = mediane(bottom)\n",
    "q3 = mediane(top)\n",
    "iqr = q3 - q1"
   ]
  },
  {
   "cell_type": "code",
   "execution_count": null,
   "id": "fec8859d",
   "metadata": {
    "lines_to_next_cell": 2
   },
   "outputs": [],
   "source": [
    "print(df_sales)\n",
    "df_sales.to_excel(\"df_sales.xlsx\")\n",
    "print(\"\\nTotal revenue:\", total)\n",
    "print(\"    mean:\", mean)\n",
    "print(\"st. dev.:\", standev)\n",
    "print(\"     iqr:\", iqr)\n",
    "print(\"        ( q1:\", q1, \"\\t)\")\n",
    "print(\"        (med:\", med,\"\\t)\")\n",
    "print(\"        ( q3:\", q3, \"\\t)\")"
   ]
  },
  {
   "cell_type": "code",
   "execution_count": null,
   "id": "58dedeb1",
   "metadata": {
    "lines_to_next_cell": 1
   },
   "outputs": [],
   "source": [
    "# graphic stuff\n",
    "graph.style.use('_mpl-gallery')"
   ]
  },
  {
   "cell_type": "code",
   "execution_count": null,
   "id": "a7ccf95b",
   "metadata": {
    "lines_to_next_cell": 1
   },
   "outputs": [],
   "source": [
    "# density calculator\n",
    "def howmanywithin(d): # -d and +d = value limits for neighbors\n",
    "    n = [1] * len(df_sales[\"revenue\"])\n",
    "    for i in range (len(df_sales[\"revenue\"])):\n",
    "        v = df_sales.iloc[i][\"revenue\"]\n",
    "        for j in df_sales[\"revenue\"]:\n",
    "            if v-d < j < v+d: # within neighbors?\n",
    "                n[i] += 1\n",
    "        n[i] * 2.5 # so it's bigger\n",
    "    return(n)"
   ]
  },
  {
   "cell_type": "code",
   "execution_count": null,
   "id": "a4f4d8a7",
   "metadata": {},
   "outputs": [],
   "source": [
    "y = [1] * len(df_sales[\"revenue\"])\n",
    "x = df_sales[\"revenue\"]\n",
    "bp = revenue_nonzero\n",
    "# coloring the outliers\n",
    "cmap = clr.ListedColormap(\n",
    "                          ['slateblue', 'slateblue', 'slateblue']\n",
    "                          ).with_extremes(\n",
    "                            over='crimson',\n",
    "                            under='crimson')\n",
    "bounds = [q1 - 1.5*(iqr), q3 + 1.5*(iqr)]\n",
    "norm = clr.BoundaryNorm(bounds, cmap.N, extend='both')\n",
    "color = df_sales[\"revenue\"]\n",
    "# sizing the density for readability\n",
    "size = howmanywithin(20)"
   ]
  },
  {
   "cell_type": "code",
   "execution_count": null,
   "id": "636549a8",
   "metadata": {},
   "outputs": [],
   "source": [
    "# plot\n",
    "fig, ax = graph.subplots()"
   ]
  },
  {
   "cell_type": "code",
   "execution_count": null,
   "id": "38778936",
   "metadata": {},
   "outputs": [],
   "source": [
    "ax.scatter(x, y, norm=norm, cmap=cmap, c=color, s=size)\n",
    "ax.set_ylabel(\"\")\n",
    "ax.set_xlabel(\"revenue\")\n",
    "ax.grid(True)\n",
    "ax.boxplot(bp, vert=False, showfliers=False)"
   ]
  },
  {
   "cell_type": "code",
   "execution_count": null,
   "id": "52b2f147",
   "metadata": {},
   "outputs": [],
   "source": [
    "fig.tight_layout() # so running the code in vscode shows everything\n",
    "graph.show()"
   ]
  }
 ],
 "metadata": {
  "jupytext": {
   "cell_metadata_filter": "-all",
   "main_language": "python",
   "notebook_metadata_filter": "-all"
  },
  "kernelspec": {
   "display_name": "Python 3 (ipykernel)",
   "language": "python",
   "name": "python3"
  },
  "language_info": {
   "codemirror_mode": {
    "name": "ipython",
    "version": 3
   },
   "file_extension": ".py",
   "mimetype": "text/x-python",
   "name": "python",
   "nbconvert_exporter": "python",
   "pygments_lexer": "ipython3",
   "version": "3.9.12"
  }
 },
 "nbformat": 4,
 "nbformat_minor": 5
}
