{
 "cells": [
  {
   "cell_type": "code",
   "execution_count": null,
   "id": "641130ee",
   "metadata": {},
   "outputs": [],
   "source": [
    "import random"
   ]
  },
  {
   "cell_type": "code",
   "execution_count": null,
   "id": "f6a40ffc",
   "metadata": {},
   "outputs": [],
   "source": [
    "random.seed(1) # so the randomly generated numbers stay the same\n",
    "# seed(1) = (first: 265891, ..., last: 379531)"
   ]
  },
  {
   "cell_type": "code",
   "execution_count": null,
   "id": "1efc3f7a",
   "metadata": {},
   "outputs": [],
   "source": [
    "prix_de_58_maisons = []\n",
    "for i in range (58) :\n",
    "    prix_de_58_maisons.append(random.randint(125000, 700000))\n",
    "    # each of the 58 houses have been given a value between 125k and 700k"
   ]
  },
  {
   "cell_type": "code",
   "execution_count": null,
   "id": "5502761d",
   "metadata": {},
   "outputs": [],
   "source": [
    "two = three = four = five = 0 # init"
   ]
  },
  {
   "cell_type": "code",
   "execution_count": null,
   "id": "e898d07d",
   "metadata": {},
   "outputs": [],
   "source": [
    "for i in (prix_de_58_maisons) :\n",
    "    if i >= 300000 :\n",
    "        two += 1\n",
    "    if 250000 < i < 400000 :\n",
    "        three += 1\n",
    "    if i <= 600000 : # (not >)\n",
    "        four += 1\n",
    "    if i < 150000 or i > 650000 :\n",
    "        five += 1"
   ]
  },
  {
   "cell_type": "code",
   "execution_count": null,
   "id": "550a48b8",
   "metadata": {},
   "outputs": [],
   "source": [
    "print(str(two) + \" maisons ont un prix > ou = à 300k\") # (42)\n",
    "print(str(three) + \" maisons ont un prix entre 250k et 400k\") # (13)\n",
    "print(str(four) + \" maisons ont un prix qui n'est pas > à 600k\") # (46)\n",
    "print(str(five) + \" maisons ont un prix < 150k ou > à 650k\") # (9)"
   ]
  }
 ],
 "metadata": {
  "jupytext": {
   "cell_metadata_filter": "-all",
   "main_language": "python",
   "notebook_metadata_filter": "-all"
  },
  "kernelspec": {
   "display_name": "Python 3 (ipykernel)",
   "language": "python",
   "name": "python3"
  },
  "language_info": {
   "codemirror_mode": {
    "name": "ipython",
    "version": 3
   },
   "file_extension": ".py",
   "mimetype": "text/x-python",
   "name": "python",
   "nbconvert_exporter": "python",
   "pygments_lexer": "ipython3",
   "version": "3.9.12"
  }
 },
 "nbformat": 4,
 "nbformat_minor": 5
}
